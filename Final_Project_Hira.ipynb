{
  "nbformat": 4,
  "nbformat_minor": 0,
  "metadata": {
    "colab": {
      "provenance": [],
      "toc_visible": true,
      "authorship_tag": "ABX9TyP39VgkP819eHykrimzlfVd",
      "include_colab_link": true
    },
    "kernelspec": {
      "name": "python3",
      "display_name": "Python 3"
    },
    "language_info": {
      "name": "python"
    }
  },
  "cells": [
    {
      "cell_type": "markdown",
      "metadata": {
        "id": "view-in-github",
        "colab_type": "text"
      },
      "source": [
        "<a href=\"https://colab.research.google.com/github/HiraZaheer/Python-Projects/blob/main/Final_Project_Hira.ipynb\" target=\"_parent\"><img src=\"https://colab.research.google.com/assets/colab-badge.svg\" alt=\"Open In Colab\"/></a>"
      ]
    },
    {
      "cell_type": "code",
      "source": [
        "import pandas as pd\n",
        "from sklearn.model_selection import train_test_split\n",
        "from sklearn.feature_extraction.text import TfidfVectorizer\n",
        "from sklearn.linear_model import LogisticRegression\n",
        "from sklearn.metrics import classification_report, accuracy_score\n",
        "import sys\n",
        "\n"
      ],
      "metadata": {
        "id": "7DLniii6xKmV"
      },
      "execution_count": 2,
      "outputs": []
    },
    {
      "cell_type": "code",
      "source": [
        "# --------------- Load dataset ---------------\n",
        "csv_path = \"Hotel_Reviews.csv\"  # change path if needed\n",
        "df = pd.read_csv(csv_path)\n",
        "print(\"Columns found:\", list(df.columns))\n",
        "\n",
        "# --------------- Build text + labels ---------------\n",
        "def _clean_chunk(s):\n",
        "    if pd.isna(s):\n",
        "        return \"\"\n",
        "    s = str(s).strip()\n",
        "    if s.lower() in (\"no positive\", \"no negative\"):\n",
        "        return \"\"\n",
        "    return s\n",
        "\n",
        "text_col = None\n",
        "label_col = None\n",
        "cols_lower = {c.lower(): c for c in df.columns}\n",
        "\n",
        "if \"review\" in cols_lower:\n",
        "    # Case A: small sample CSV you might use for quick testing\n",
        "    text_col = cols_lower[\"review\"]\n",
        "    if \"sentiment\" in cols_lower:\n",
        "        label_col = cols_lower[\"sentiment\"]\n",
        "    elif \"reviewer_score\" in cols_lower:\n",
        "        label_col = \"Sentiment\"\n",
        "        df[label_col] = df[cols_lower[\"reviewer_score\"]].astype(float).apply(\n",
        "            lambda x: \"positive\" if x > 6 else \"negative\"\n",
        "        )\n",
        "    else:\n",
        "        sys.exit(\"Could not find 'Sentiment' or 'Reviewer_Score' to make labels.\")\n",
        "else:\n",
        "    # Case B: Kaggle 515k Hotel_Reviews.csv\n",
        "    needed = [\"positive_review\", \"negative_review\", \"reviewer_score\"]\n",
        "    if not all(n in cols_lower for n in needed):\n",
        "        sys.exit(\"Expected Kaggle columns 'Positive_Review', 'Negative_Review', 'Reviewer_Score'. Not all were found.\")\n",
        "    pos_col = cols_lower[\"positive_review\"]\n",
        "    neg_col = cols_lower[\"negative_review\"]\n",
        "    score_col = cols_lower[\"reviewer_score\"]\n",
        "\n",
        "    # Concatenate positive + negative parts (dropping 'No Positive'/'No Negative')\n",
        "    df[\"Text\"] = (df[pos_col].apply(_clean_chunk) + \" \" + df[neg_col].apply(_clean_chunk)).str.strip()\n",
        "    df = df[df[\"Text\"].str.len() > 0]  # drop empty texts\n",
        "    text_col = \"Text\"\n",
        "\n",
        "    # Label from score (0–10). Adjust threshold if desired (e.g., >7).\n",
        "    df[\"Sentiment\"] = df[score_col].astype(float).apply(lambda x: \"positive\" if x > 6 else \"negative\")\n",
        "    label_col = \"Sentiment\"\n",
        "\n",
        "# --------------- Split ---------------\n",
        "X = df[text_col]\n",
        "y = df[label_col]\n",
        "X_train, X_test, y_train, y_test = train_test_split(\n",
        "    X, y, test_size=0.2, random_state=42, stratify=y if y.nunique() == 2 else None\n",
        ")\n",
        "\n",
        "# --------------- Vectorize ---------------\n",
        "vectorizer = TfidfVectorizer(stop_words=\"english\", max_features=20000, ngram_range=(1, 2))\n",
        "X_train_tfidf = vectorizer.fit_transform(X_train)\n",
        "X_test_tfidf = vectorizer.transform(X_test)\n",
        "\n",
        "# --------------- Train ---------------\n",
        "model = LogisticRegression(max_iter=1000)\n",
        "model.fit(X_train_tfidf, y_train)\n",
        "\n",
        "# --------------- Evaluate ---------------\n",
        "y_pred = model.predict(X_test_tfidf)\n",
        "print(\"Accuracy:\", accuracy_score(y_test, y_pred))\n",
        "print(\"\\nClassification Report:\\n\", classification_report(y_test, y_pred))\n",
        "\n"
      ],
      "metadata": {
        "colab": {
          "base_uri": "https://localhost:8080/"
        },
        "id": "h1xU_7cC0uca",
        "outputId": "03b58c43-e0be-4f80-ab01-a56fd7353353"
      },
      "execution_count": 4,
      "outputs": [
        {
          "output_type": "stream",
          "name": "stdout",
          "text": [
            "Columns found: ['Hotel_Address', 'Additional_Number_of_Scoring', 'Review_Date', 'Average_Score', 'Hotel_Name', 'Reviewer_Nationality', 'Negative_Review', 'Review_Total_Negative_Word_Counts', 'Total_Number_of_Reviews', 'Positive_Review', 'Review_Total_Positive_Word_Counts', 'Total_Number_of_Reviews_Reviewer_Has_Given', 'Reviewer_Score', 'Tags', 'days_since_review', 'lat', 'lng']\n",
            "Accuracy: 0.9211549839477794\n",
            "\n",
            "Classification Report:\n",
            "               precision    recall  f1-score   support\n",
            "\n",
            "    negative       0.71      0.39      0.50     10547\n",
            "    positive       0.93      0.98      0.96     92554\n",
            "\n",
            "    accuracy                           0.92    103101\n",
            "   macro avg       0.82      0.68      0.73    103101\n",
            "weighted avg       0.91      0.92      0.91    103101\n",
            "\n"
          ]
        }
      ]
    },
    {
      "cell_type": "code",
      "source": [
        "# --------------- Demo ---------------\n",
        "\n",
        "samples = [\n",
        "\n",
        "    \"The hotel was clean and the staff were very friendly.\",\n",
        "    \"Terrible experience, the room was dirty and smelly.\",\n",
        "    \"Excellent service and beautiful location!\",\n",
        "    \"The food was bad and service was very slow.\",\n",
        "    \"Rooms were spacious and well maintained.\",\n",
        "    \"Very noisy at night, couldn’t sleep properly.\",\n",
        "    \"Absolutely loved my stay here!\",\n",
        "    \"The bathroom was unhygienic and water was leaking.\",\n",
        "    \"Great breakfast buffet and comfortable beds.\",\n",
        "    \"Not worth the price, very disappointing.\"\n",
        "]\n",
        "for s in samples:\n",
        "     print(f\"Review: {s}\\nPredicted: {model.predict(vectorizer.transform([s]))[0]}\\n\")\n"
      ],
      "metadata": {
        "colab": {
          "base_uri": "https://localhost:8080/"
        },
        "id": "lT-TyPrr39Cj",
        "outputId": "e8bd1693-3254-459f-e030-f97071d35b4b"
      },
      "execution_count": 8,
      "outputs": [
        {
          "output_type": "stream",
          "name": "stdout",
          "text": [
            "Review: The hotel was clean and the staff were very friendly.\n",
            "Predicted: positive\n",
            "\n",
            "Review: Terrible experience, the room was dirty and smelly.\n",
            "Predicted: negative\n",
            "\n",
            "Review: Excellent service and beautiful location!\n",
            "Predicted: positive\n",
            "\n",
            "Review: The food was bad and service was very slow.\n",
            "Predicted: negative\n",
            "\n",
            "Review: Rooms were spacious and well maintained.\n",
            "Predicted: positive\n",
            "\n",
            "Review: Very noisy at night, couldn’t sleep properly.\n",
            "Predicted: positive\n",
            "\n",
            "Review: Absolutely loved my stay here!\n",
            "Predicted: positive\n",
            "\n",
            "Review: The bathroom was unhygienic and water was leaking.\n",
            "Predicted: positive\n",
            "\n",
            "Review: Great breakfast buffet and comfortable beds.\n",
            "Predicted: positive\n",
            "\n",
            "Review: Not worth the price, very disappointing.\n",
            "Predicted: negative\n",
            "\n"
          ]
        }
      ]
    },
    {
      "cell_type": "code",
      "source": [],
      "metadata": {
        "id": "tXwsCSdk0uTE"
      },
      "execution_count": null,
      "outputs": []
    },
    {
      "cell_type": "code",
      "source": [],
      "metadata": {
        "id": "bn455kk00uHe"
      },
      "execution_count": null,
      "outputs": []
    }
  ]
}